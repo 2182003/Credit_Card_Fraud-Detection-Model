{
 "cells": [
  {
   "cell_type": "markdown",
   "id": "4ea1ad03-ea5e-4a64-b88a-4a9503000213",
   "metadata": {},
   "source": [
    "# Problem Statment\n",
    "* Credit card companies lose money because of fake transactions. When someone steals card details and makes purchases, it hurts both banks and customers. This project uses machine learning to find which transactions are real and which are fake. I will build a model that can automatically detect fraud and help banks stop bad transactions before they happen."
   ]
  },
  {
   "cell_type": "code",
   "execution_count": null,
   "id": "bd141423-9be4-4c19-ab84-0f68f939bfdb",
   "metadata": {},
   "outputs": [],
   "source": [
    "import numpy as np\n",
    "import pandas as pd\n",
    "import seaborn as sns\n",
    "from sklearn.model_selection import train_test_split\n",
    "from sklearn.preprocessing import StandardScaler\n",
    "from imblearn.over_sampling import SMOTE\n",
    "from sklearn.ensemble import RandomForestClassifier\n",
    "from sklearn.tree import DecisionTreeClassifier\n",
    "from sklearn.metrics import classification_report, confusion_matrix, f1_score, precision_score, recall_score, roc_auc_score\n",
    "import matplotlib.pyplot as plt\n",
    "from sklearn.metrics import precision_recall_curve"
   ]
  },
  {
   "cell_type": "markdown",
   "id": "4ac1105d-60a5-4d29-90bc-05009e983c29",
   "metadata": {},
   "source": [
    "# Load Data"
   ]
  },
  {
   "cell_type": "code",
   "execution_count": null,
   "id": "bda920e0-2b65-4a92-886a-f0d15b4ca861",
   "metadata": {},
   "outputs": [],
   "source": [
    "data=pd.read_csv('creditcard.csv')"
   ]
  },
  {
   "cell_type": "code",
   "execution_count": null,
   "id": "29c4c162-eb37-4fe3-b1a5-fa1af06da3c5",
   "metadata": {},
   "outputs": [],
   "source": [
    "data"
   ]
  },
  {
   "cell_type": "code",
   "execution_count": null,
   "id": "2f17755f-50bc-47f0-9a08-1373f7fb07d6",
   "metadata": {},
   "outputs": [],
   "source": [
    "data.columns"
   ]
  },
  {
   "cell_type": "code",
   "execution_count": null,
   "id": "c0fb78c9-18f2-45d3-aac7-a4124794013c",
   "metadata": {},
   "outputs": [],
   "source": [
    "pd.set_option('display.max_columns',None)"
   ]
  },
  {
   "cell_type": "code",
   "execution_count": null,
   "id": "150346a2-c9bb-42a1-b5ed-0d1ca716d709",
   "metadata": {},
   "outputs": [],
   "source": [
    "data"
   ]
  },
  {
   "cell_type": "raw",
   "id": "2f671779-307a-4f42-8eef-a551d4886508",
   "metadata": {},
   "source": [
    "# insight to me for helping\n",
    "\n",
    "Detection Patterns:\n",
    "1. Location Mismatch:\n",
    "\n",
    "Last transaction: Mumbai (2 minutes ago)\n",
    "Current transaction: Delhi\n",
    "Impossible travel = FRAUD ALERT!\n",
    "\n",
    "2. Unusual Timing:\n",
    "\n",
    "Normal pattern: 9 AM - 9 PM transactions\n",
    "Fraud alert: 3 AM high amount transaction\n",
    "System blocks immediately\n",
    "\n",
    "3. Amount Patterns:\n",
    "\n",
    "Normal: ₹500-2000 transactions\n",
    "Sudden: ₹50,000 transaction\n",
    "Alert: Amount pattern completely different\n",
    "\n",
    "4. Merchant Type Changes:\n",
    "Normal: Grocery → Petrol → Restaurant (everyday)\n",
    "Fraud: Suddenly → Jewelry → Electronics → Online casino\n",
    "5. Frequency Changes:\n",
    "\n",
    "Normal: 2-3 transactions/day\n",
    "Fraud: 15 transactions in 1 hour\n",
    "\n",
    "System Response:\n",
    "\n",
    "Block card immediately\n",
    "SMS alert bhejte hain\n",
    "Call for verification"
   ]
  },
  {
   "cell_type": "markdown",
   "id": "a86fd746-f3a6-4918-a507-1a2b37527e32",
   "metadata": {},
   "source": [
    "# Basic checks"
   ]
  },
  {
   "cell_type": "code",
   "execution_count": null,
   "id": "42cdd7b8-2f28-454d-932a-dd9fc12f8c93",
   "metadata": {},
   "outputs": [],
   "source": [
    "data.shape"
   ]
  },
  {
   "cell_type": "code",
   "execution_count": null,
   "id": "1f9f896a-3c4f-4c6f-8826-8ac74b5274bf",
   "metadata": {},
   "outputs": [],
   "source": [
    "data.dtypes"
   ]
  },
  {
   "cell_type": "code",
   "execution_count": null,
   "id": "108e5b5f-6b2d-4670-bea7-849ae7546ec1",
   "metadata": {},
   "outputs": [],
   "source": [
    "data.describe()"
   ]
  },
  {
   "cell_type": "code",
   "execution_count": null,
   "id": "82bcfd27-1916-417a-81f9-3ffc949d78de",
   "metadata": {},
   "outputs": [],
   "source": [
    "data.tail()"
   ]
  },
  {
   "cell_type": "code",
   "execution_count": null,
   "id": "55029e15-ec98-4555-a176-c9921f475959",
   "metadata": {},
   "outputs": [],
   "source": [
    "data['Class'].value_counts()"
   ]
  },
  {
   "cell_type": "markdown",
   "id": "cda2285b-67d9-4fc3-bc88-bd38cd419b50",
   "metadata": {},
   "source": [
    "# Domain Analysis\n",
    "* Most of the transactions are normal, only a very small part are fraud.\n",
    "\n",
    "* The Amount column shows how much money was spent in each transaction, we can compare fraud vs normal here.\n",
    "\n",
    "* The Time column shows when the transaction happened, we can check if fraud happens more at some specific times.\n",
    "\n",
    "* These simple checks give us an idea of how fraud looks in real life before making a model."
   ]
  },
  {
   "cell_type": "markdown",
   "id": "e148d660-5e84-4934-b6e5-d7ad88170dd4",
   "metadata": {},
   "source": [
    "# EDA"
   ]
  },
  {
   "cell_type": "code",
   "execution_count": null,
   "id": "55a0efdc-b4be-4ed4-acce-8f5ba121aabf",
   "metadata": {},
   "outputs": [],
   "source": [
    "# check  distribtuion for class\n",
    "plt.figure(figsize=(5,5))\n",
    "sns.histplot(data=data,x='Class')"
   ]
  },
  {
   "cell_type": "code",
   "execution_count": null,
   "id": "c30ad8f9-7425-4968-a95a-a3bdaed1e6e1",
   "metadata": {},
   "outputs": [],
   "source": [
    "data"
   ]
  },
  {
   "cell_type": "code",
   "execution_count": null,
   "id": "0c871439-1621-4388-ba60-55aa1bdb8350",
   "metadata": {},
   "outputs": [],
   "source": [
    "sns.histplot(data=data, x=\"Amount\",kde=True)\n",
    "plt.show()"
   ]
  },
  {
   "cell_type": "code",
   "execution_count": null,
   "id": "103192fc-1b08-4de4-9135-b6a1126c7ca2",
   "metadata": {},
   "outputs": [],
   "source": [
    "plt.figure(figsize=(22,36))\n",
    "plotnumber=1\n",
    "for col in data.drop('Class',axis=1).columns:\n",
    "    if plotnumber <= len(data.columns):\n",
    "        ax = plt.subplot(15,2, plotnumber)   # 15 rows, 2 cols = 30 plots\n",
    "        sns.histplot(data[col], kde=True, stat=\"density\", element=\"step\")\n",
    "        plt.xlabel(col, fontsize=10)\n",
    "        plt.ylabel(\"Count\",fontsize=10)\n",
    "    plotnumber += 1\n",
    "\n",
    "plt.tight_layout()\n",
    "plt.show()"
   ]
  },
  {
   "cell_type": "code",
   "execution_count": null,
   "id": "696a1e01-d86c-49d7-beab-92f85b2da6a7",
   "metadata": {},
   "outputs": [],
   "source": [
    "sns.histplot(data=data, x='Time', hue='Class', kde=True)"
   ]
  },
  {
   "cell_type": "code",
   "execution_count": null,
   "id": "e4dc84a9-edd4-4e0a-94d9-5caf254d921b",
   "metadata": {},
   "outputs": [],
   "source": [
    "# Scatter plot of time and Amount\n",
    "sns.scatterplot(data=data,x='Time',y='Amount',hue='Class')"
   ]
  },
  {
   "cell_type": "code",
   "execution_count": null,
   "id": "5beb9c14-b20c-4a26-8d38-c4a35f0404ad",
   "metadata": {},
   "outputs": [],
   "source": [
    "# scatter plot of time and class\n",
    "plt.figure(figsize=(10,6))\n",
    "sns.scatterplot(data=data, x=\"Time\", y=\"Class\", alpha=0.5)\n",
    "plt.title(\"Fraud vs Non-Fraud over Time\")\n",
    "plt.show()"
   ]
  },
  {
   "cell_type": "code",
   "execution_count": null,
   "id": "93f7978c-1ea1-4dd7-9730-d7ef364c92a3",
   "metadata": {},
   "outputs": [],
   "source": [
    "# scatter plot of Amount and class\n",
    "sns.scatterplot(data=data,x='Class',y='Amount')"
   ]
  },
  {
   "cell_type": "code",
   "execution_count": null,
   "id": "9e3c6f5e-f07f-4d29-a7c5-8e4d010d3c71",
   "metadata": {},
   "outputs": [],
   "source": [
    "# scatter plot with in PCA features\n",
    "sns.scatterplot(data=data,x='V1',y='V2',hue='Class',alpha=0.6)"
   ]
  },
  {
   "cell_type": "markdown",
   "id": "cd490f52-bbe2-44ef-b3bf-8873993a5d38",
   "metadata": {},
   "source": [
    "### Insights\n",
    "* Most of the transactions are normal and only a very small part are fraud.\n",
    "\n",
    "* Fraud transactions are not spread everywhere, they are grouped in some regions of feature space.\n",
    "\n",
    "* Amount and Time show different spending patterns, and frauds may appear in specific ranges or times.\n",
    "\n",
    "* PCA features (like V1, V2) show that fraud points sometimes cluster separately, but also mix with normal ones."
   ]
  },
  {
   "cell_type": "markdown",
   "id": "f8816a94-2507-46f8-95e7-9091adde970f",
   "metadata": {},
   "source": [
    "# BoxPlot"
   ]
  },
  {
   "cell_type": "code",
   "execution_count": null,
   "id": "2c86cd50-0135-447b-ace6-4b8fdfd8dd92",
   "metadata": {},
   "outputs": [],
   "source": [
    "# check outliers on v2\n",
    "plt.figure(figsize=(8,4))\n",
    "sns.boxplot(data=data,x='V2')\n",
    "plt.title(\"Boxplot of  V2\")"
   ]
  },
  {
   "cell_type": "code",
   "execution_count": null,
   "id": "34f5df80-7758-47a8-bdb9-96202b083891",
   "metadata": {},
   "outputs": [],
   "source": [
    "# check Outliers on v12\n",
    "plt.figure(figsize=(8,4))\n",
    "sns.boxplot(data=data,x='V12')\n",
    "plt.title(\"Boxplot of  V12\")"
   ]
  },
  {
   "cell_type": "code",
   "execution_count": null,
   "id": "f64d4ae6-f9f8-4531-b368-0495ae6bee80",
   "metadata": {},
   "outputs": [],
   "source": [
    "# Check outliers on Amount\n",
    "plt.figure(figsize=(8,4))\n",
    "sns.boxplot(data=data, x='Amount')\n",
    "plt.title(\"Boxplot of Transaction Amount\")\n"
   ]
  },
  {
   "cell_type": "markdown",
   "id": "1dc8279f-fa5f-41d4-bb8d-d8908ae4d3ad",
   "metadata": {},
   "source": [
    "# Data Preprocessing"
   ]
  },
  {
   "cell_type": "code",
   "execution_count": null,
   "id": "2a9702b3-b73a-435d-a533-f142a70c5a17",
   "metadata": {},
   "outputs": [],
   "source": [
    "# IQR method detect ouliers\n",
    "q1=data['Amount'].quantile(0.25)\n",
    "q3=data['Amount'].quantile(0.75)\n",
    "iqr=q3-q1\n",
    "\n",
    "lower_limit=q1-1.5*iqr\n",
    "upper_limit=q3+1.5*iqr\n",
    "print(lower_limit)\n",
    "print(upper_limit)"
   ]
  },
  {
   "cell_type": "code",
   "execution_count": null,
   "id": "9e22ed75-577b-4d3c-8c03-8c137343eacd",
   "metadata": {},
   "outputs": [],
   "source": [
    "outlier=data.loc[(data['Amount']>upper_limit)|(data['Amount']<lower_limit)]"
   ]
  },
  {
   "cell_type": "code",
   "execution_count": null,
   "id": "d07fae1e-dc5e-43fe-82e8-979f9dbaa4c0",
   "metadata": {},
   "outputs": [],
   "source": [
    "outlier.shape"
   ]
  },
  {
   "cell_type": "code",
   "execution_count": null,
   "id": "6bb3e5ee-b3d8-40a8-a41f-2795e65f7cba",
   "metadata": {},
   "outputs": [],
   "source": [
    "data"
   ]
  },
  {
   "cell_type": "code",
   "execution_count": null,
   "id": "0b72f020-0b83-499b-b15c-c567c978f6e0",
   "metadata": {},
   "outputs": [],
   "source": [
    "# missing values\n",
    "data.isnull().sum()"
   ]
  },
  {
   "cell_type": "code",
   "execution_count": null,
   "id": "bc7d959b-d5f2-435c-80e8-b0940b9c11e5",
   "metadata": {},
   "outputs": [],
   "source": [
    "# duplicated check\n",
    "data.duplicated().sum()"
   ]
  },
  {
   "cell_type": "code",
   "execution_count": null,
   "id": "9f83e1d0-6a03-454c-b1e9-2e96df0da544",
   "metadata": {},
   "outputs": [],
   "source": [
    "data=data.drop_duplicates()"
   ]
  },
  {
   "cell_type": "code",
   "execution_count": null,
   "id": "8d533ab5-ecde-4671-96d5-2f34a7e1494c",
   "metadata": {},
   "outputs": [],
   "source": [
    "data.duplicated().sum()"
   ]
  },
  {
   "cell_type": "markdown",
   "id": "09b1120c-459d-43da-9e67-3d52a46a5f6a",
   "metadata": {},
   "source": [
    "# Feature Engineering"
   ]
  },
  {
   "cell_type": "code",
   "execution_count": null,
   "id": "f764a7a7-794b-485c-b645-a0dd73fa68ef",
   "metadata": {},
   "outputs": [],
   "source": [
    "data['Hour'] = (data['Time'] % 86400) // 3600"
   ]
  },
  {
   "cell_type": "code",
   "execution_count": null,
   "id": "5d45ee0d-a940-414b-9fb3-351ce9107dfa",
   "metadata": {},
   "outputs": [],
   "source": [
    "data['Amount_log'] = np.log1p(data['Amount'])   # log(Amount+1)"
   ]
  },
  {
   "cell_type": "markdown",
   "id": "a40f1371-dc51-4e44-bd9e-9c8bb9a37af9",
   "metadata": {},
   "source": [
    "### Scaling "
   ]
  },
  {
   "cell_type": "code",
   "execution_count": null,
   "id": "c31d2219-5552-44cd-aec5-28c3a430bab6",
   "metadata": {},
   "outputs": [],
   "source": [
    "from sklearn.preprocessing import StandardScaler\n",
    "\n",
    "scaler=StandardScaler()\n",
    "# on Amount\n",
    "data['Amount_scaled']=scaler.fit_transform(data[['Amount_log']])\n",
    "\n",
    "# On Hour\n",
    "data['Hour']=scaler.fit_transform(data[['Hour']])"
   ]
  },
  {
   "cell_type": "code",
   "execution_count": null,
   "id": "13434703-ca03-463e-b220-097e7a2aa7bb",
   "metadata": {},
   "outputs": [],
   "source": [
    "data"
   ]
  },
  {
   "cell_type": "markdown",
   "id": "6b3492b5-e154-4fb8-82e6-2406e4867d18",
   "metadata": {},
   "source": [
    "# Split x and y"
   ]
  },
  {
   "cell_type": "code",
   "execution_count": null,
   "id": "9ce40276-e106-4f32-ada2-e1d632b4c965",
   "metadata": {},
   "outputs": [],
   "source": [
    "from sklearn.model_selection import train_test_split\n",
    "\n",
    "x=data.drop('Class',axis=1)\n",
    "y=data['Class']"
   ]
  },
  {
   "cell_type": "markdown",
   "id": "ca80d02b-c35d-444c-ac85-371fb0798d25",
   "metadata": {},
   "source": [
    "# Train-Test_split"
   ]
  },
  {
   "cell_type": "code",
   "execution_count": null,
   "id": "7548ebaf-44e7-472c-9bc1-df1a1459d744",
   "metadata": {},
   "outputs": [],
   "source": [
    "x_train,x_test,y_train,y_test=train_test_split(x,y,test_size=0.2,random_state=42,stratify=y)  # stratify= equal part me krega class=0 or class 1 ko same part me "
   ]
  },
  {
   "cell_type": "code",
   "execution_count": null,
   "id": "2ec0a008-22a3-488d-bbb7-cd52f4e62058",
   "metadata": {},
   "outputs": [],
   "source": [
    "print(\"Before SMOTE:\", y_train.value_counts())"
   ]
  },
  {
   "cell_type": "code",
   "execution_count": null,
   "id": "65fc718e-2194-4282-b52f-57e987ead047",
   "metadata": {},
   "outputs": [],
   "source": [
    "# Apply SMOTE only on training data\n",
    "\n",
    "from imblearn.over_sampling import SMOTE\n",
    "smote = SMOTE(random_state=42)\n",
    "x_train_res, y_train_res = smote.fit_resample(x_train, y_train)"
   ]
  },
  {
   "cell_type": "code",
   "execution_count": null,
   "id": "5350ec03-acbd-4ae3-a17d-8d88ffc8ccf6",
   "metadata": {},
   "outputs": [],
   "source": [
    "print(\"After SMOTE:\", y_train_res.value_counts())"
   ]
  },
  {
   "cell_type": "markdown",
   "id": "a24e5474-6a6e-4673-b8c6-977607514460",
   "metadata": {},
   "source": [
    "# import all "
   ]
  },
  {
   "cell_type": "code",
   "execution_count": null,
   "id": "970615c1-8baf-4d84-92b3-904176dc91da",
   "metadata": {},
   "outputs": [],
   "source": [
    "from sklearn.linear_model import LogisticRegression\n",
    "\n",
    "model=LogisticRegression(max_iter=1000,random_state=42)\n",
    "model.fit(x_train_res,y_train_res)"
   ]
  },
  {
   "cell_type": "code",
   "execution_count": null,
   "id": "dedb9c35-baa7-4d0b-91e3-52d9773d604f",
   "metadata": {},
   "outputs": [],
   "source": [
    "# Predication on data\n",
    "y_probs = model.predict_proba(x_test)[:, 1]"
   ]
  },
  {
   "cell_type": "code",
   "execution_count": null,
   "id": "14411c3f-94e3-4229-b651-01c238e43284",
   "metadata": {},
   "outputs": [],
   "source": [
    "# set custom \n",
    "threshold = 0.5\n",
    "y_pred = (y_probs >= threshold).astype(int)"
   ]
  },
  {
   "cell_type": "code",
   "execution_count": null,
   "id": "c986cb3a-db4c-471f-a1de-9c81a014de04",
   "metadata": {},
   "outputs": [],
   "source": [
    "from sklearn.metrics import precision_score, recall_score, f1_score, classification_report,confusion_matrix,roc_auc_score\n",
    "\n",
    "print(confusion_matrix(y_test, y_pred))\n",
    "print(classification_report(y_test, y_pred))\n",
    "print(\"Recall:\",recall_score(y_test, y_pred))\n",
    "print(\"F1-score:\",f1_score(y_test, y_pred))\n",
    "print(\"ROC-AUC:\",roc_auc_score(y_test, model.predict_proba(x_test)[:,1]))"
   ]
  },
  {
   "cell_type": "code",
   "execution_count": null,
   "id": "41e20747-2d6c-4e58-8128-e3c597915c01",
   "metadata": {},
   "outputs": [],
   "source": [
    "# Decision Tree\n",
    "# -------------------------------\n",
    "dt_model = DecisionTreeClassifier(random_state=42, class_weight='balanced', max_depth=6)\n",
    "dt_model.fit(x_train_res, y_train_res)\n",
    "\n",
    "# Probabilities\n",
    "y_probs_dt = dt_model.predict_proba(x_test)[:, 1]\n",
    "\n",
    "# Threshold\n",
    "y_pred_dt = (y_probs_dt >= threshold).astype(int)\n",
    "\n",
    "# Metrics\n",
    "print(\"Decision Tree Metrics\")\n",
    "print(confusion_matrix(y_test, y_pred_dt))\n",
    "print(classification_report(y_test, y_pred_dt))\n",
    "print(\"F1-score:\", f1_score(y_test, y_pred_dt))\n",
    "print(\"Precision:\", precision_score(y_test, y_pred_dt))\n",
    "print(\"Recall:\", recall_score(y_test, y_pred_dt))\n",
    "print(\"ROC-AUC:\", roc_auc_score(y_test, y_probs_dt))"
   ]
  },
  {
   "cell_type": "code",
   "execution_count": null,
   "id": "1d40bf29-f4c0-4a78-9327-2b82ffc6a218",
   "metadata": {},
   "outputs": [],
   "source": [
    " Random Forest (optimized)\n",
    "# -------------------------------\n",
    "rf_model = RandomForestClassifier(\n",
    "    n_estimators=50,     # fewer trees → faster\n",
    "    max_depth=12,        # limit depth\n",
    "    max_samples=200000,  # subset per tree → faster\n",
    "    random_state=42, \n",
    "    class_weight='balanced',\n",
    "    n_jobs=-1            # parallelize\n",
    ")\n",
    "rf_model.fit(x_train_res, y_train_res)\n",
    "\n",
    "# Probabilities\n",
    "y_probs_rf = rf_model.predict_proba(x_test)[:, 1]\n",
    "\n",
    "# Threshold\n",
    "y_pred_rf = (y_probs_rf >= threshold).astype(int)\n",
    "\n",
    "# Metrics\n",
    "print(\"Random Forest Metrics\")\n",
    "print(confusion_matrix(y_test, y_pred_rf))\n",
    "print(classification_report(y_test, y_pred_rf))\n",
    "print(\"F1-score:\", f1_score(y_test, y_pred_rf))\n",
    "print(\"Precision:\", precision_score(y_test, y_pred_rf))\n",
    "print(\"Recall:\", recall_score(y_test, y_pred_rf))\n",
    "print(\"ROC-AUC:\", roc_auc_score(y_test, y_probs_rf))\n",
    "\n"
   ]
  },
  {
   "cell_type": "code",
   "execution_count": null,
   "id": "43f0b307-dccd-4ea5-bea5-09143d009b93",
   "metadata": {},
   "outputs": [],
   "source": [
    " -------------------------------\n",
    "# Optional: Precision-Recall Curve\n",
    "# -------------------------------\n",
    "precisions, recalls, thresholds = precision_recall_curve(y_test, y_probs_rf)\n",
    "plt.plot(thresholds, precisions[:-1], label='Precision')\n",
    "plt.plot(thresholds, recalls[:-1], label='Recall')\n",
    "plt.xlabel('Threshold')\n",
    "plt.ylabel('Score')\n",
    "plt.title('Random Forest Precision-Recall vs Threshold')\n",
    "plt.legend()\n",
    "plt.show()"
   ]
  }
 ],
 "metadata": {
  "kernelspec": {
   "display_name": "Python 3 (ipykernel)",
   "language": "python",
   "name": "python3"
  },
  "language_info": {
   "codemirror_mode": {
    "name": "ipython",
    "version": 3
   },
   "file_extension": ".py",
   "mimetype": "text/x-python",
   "name": "python",
   "nbconvert_exporter": "python",
   "pygments_lexer": "ipython3",
   "version": "3.13.5"
  }
 },
 "nbformat": 4,
 "nbformat_minor": 5
}
